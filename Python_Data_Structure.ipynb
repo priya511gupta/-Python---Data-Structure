{
  "nbformat": 4,
  "nbformat_minor": 0,
  "metadata": {
    "colab": {
      "provenance": []
    },
    "kernelspec": {
      "name": "python3",
      "display_name": "Python 3"
    },
    "language_info": {
      "name": "python"
    }
  },
  "cells": [
    {
      "cell_type": "markdown",
      "source": [],
      "metadata": {
        "id": "ILajMHHWUKPu"
      }
    },
    {
      "cell_type": "markdown",
      "source": [
        "Question 1 - What are data structures, and why are they important?\n",
        "\n",
        "Answer - Data Structures:\n",
        "A data structure is a way of organizing, managing, and storing data so that it can be accessed and modified efficiently. It defines the relationship between the data and the operations that can be performed on it.\n",
        "\n",
        "Why Are Data Structures Important?\n",
        "\n",
        "1)Efficiency:\n",
        "They provide optimal ways to perform operations like searching, inserting, deleting, or sorting data.\n",
        "\n",
        "2)Scalability:\n",
        "Well-chosen data structures help handle large amounts of data effectively (e.g., millions of records in databases).\n",
        "\n",
        "3)Code Reusability and Maintainability:\n",
        "Using standard data structures helps make code modular, easier to read, debug, and maintain.\n",
        "\n",
        "4)Algorithm Optimization:\n",
        "Many algorithms are designed with specific data structures in mind to improve performance (e.g., Dijkstra's algorithm uses a priority queue).\n",
        "\n",
        "5)Problem Solving:\n",
        "Understanding data structures is critical in programming contests, interviews, and real-world applications like databases, compilers, operating systems, and AI.\n",
        "\n",
        "Question 2 -  Explain the difference between mutable and immutable data types with examples?\n",
        "\n",
        "Answer - Definition:\n",
        "\n",
        "Mutable data types are those whose values can be changed after the object is created. In other words, you can modify, add, or remove elements without creating a new object.\n",
        "\n",
        "Characteristics:\n",
        "\n",
        "Supports item assignment and modification.\n",
        "\n",
        "Occupies the same memory location even after modification.\n",
        "\n",
        "More flexible but needs careful handling to avoid unintended side effects.\n",
        "\n",
        "Common Mutable Data Types:\n",
        "\n",
        "List\n",
        "\n",
        "Dictionary\n",
        "\n",
        "Set\n",
        "\n",
        "Bytearray\n",
        "\n",
        "Example:\n",
        "If you change an element in a list, the original list is updated directly.\n",
        "\n",
        "Immutable Data Types\n",
        "\n",
        "Definition:\n",
        "Immutable data types are those whose values cannot be changed after the object is created. Any operation that modifies the value actually creates a new object.\n",
        "\n",
        "Characteristics:\n",
        "\n",
        "Does not support item assignment.\n",
        "\n",
        "Creates a new object in memory if modified.\n",
        "\n",
        "Safer for concurrent use (e.g., in multi-threading).\n",
        "\n",
        "Often used as keys in dictionaries because their hash value remains constant.\n",
        "\n",
        "Common Immutable Data Types:\n",
        "\n",
        "Integer\n",
        "\n",
        "Float\n",
        "\n",
        "String\n",
        "\n",
        "Tuple\n",
        "\n",
        "Boolean\n",
        "\n",
        "Example:\n",
        "If you change the value of a string or an integer, a new object is created with the new value, and the old one remains unchanged.\n",
        "\n",
        "Question 3 - What are the main differences between lists and tuples in Python?\n",
        "\n",
        "Answer -  1. Mutability\n",
        "List: Lists are mutable, meaning their contents can be changed after creation. You can add, remove, or modify elements.\n",
        "\n",
        "Tuple: Tuples are immutable, meaning they cannot be altered once created. Any attempt to change a tuple’s contents will result in an error.\n",
        "\n",
        " 2. Syntax and Declaration\n",
        "List: Defined using square brackets [ ].\n",
        "\n",
        "Example: my_list = [1, 2, 3]\n",
        "\n",
        "Tuple: Defined using parentheses ( ).\n",
        "\n",
        "Example: my_tuple = (1, 2, 3)\n",
        "\n",
        " 3. Performance\n",
        "List: Since lists are mutable and flexible, they use more memory and have slightly slower performance.\n",
        "\n",
        "Tuple: Tuples, being immutable, are faster and more memory-efficient. They are preferred when dealing with fixed-size collections or constant data.\n",
        "\n",
        " 4. Functionality\n",
        "List: Lists support a wide range of built-in methods such as append(), remove(), reverse(), etc., allowing dynamic operations.\n",
        "\n",
        "Tuple: Tuples have fewer methods, mainly count() and index(), due to their immutability.\n",
        "\n",
        " 5. Use Cases\n",
        "List: Ideal for storing dynamic data that may change during program execution (e.g., items in a cart).\n",
        "\n",
        "Tuple: Suitable for fixed data that shouldn’t change (e.g., coordinates, months of the year).\n",
        "\n",
        " 6. Hashability and Dictionary Use\n",
        "List: Not hashable, so it cannot be used as a dictionary key.\n",
        "\n",
        "Tuple: Hashable (if all elements are immutable), so it can be used as a dictionary key or in a set.\n",
        "\n",
        "Question 4 - Describe how dictionaries store data.\n",
        "\n",
        "Answer -\n",
        "\n",
        "How Dictionaries Store Data\n",
        "In theory, dictionaries store data using a data structure known as a hash table. A dictionary is a collection of key-value pairs, where each key maps to a specific value.\n",
        "\n",
        "Key Concepts:\n",
        "Hashing:\n",
        "\n",
        "When a key is added to a dictionary, it is first processed by a hash function, which converts the key into a numerical index called a hash code.\n",
        "\n",
        "This hash code determines where the key-value pair will be stored in memory.\n",
        "\n",
        "Key-Value Pair:\n",
        "\n",
        "Each entry in a dictionary consists of a key and its associated value.\n",
        "\n",
        "The key must be immutable (e.g., strings, numbers, tuples), while the value can be of any type.\n",
        "\n",
        "Fast Access:\n",
        "\n",
        "The main advantage of dictionaries is that they allow fast retrieval of values using keys, typically in O(1) time.\n",
        "\n",
        "This is possible because the hash function directly maps keys to memory locations.\n",
        "\n",
        "Collision Handling:\n",
        "\n",
        "Sometimes, different keys may produce the same hash code (called a collision).\n",
        "\n",
        "To handle this, dictionaries use techniques like chaining (storing multiple pairs at the same index) or open addressing (finding the next available slot).\n",
        "\n",
        "Resizing:\n",
        "\n",
        "As more items are added, the dictionary may resize itself to maintain efficiency.\n",
        "\n",
        "This involves creating a larger hash table and rehashing all existing keys.\n",
        "\n",
        "Question 5 - Why might you use a set instead of a list in Python?\n",
        "\n",
        "Answer - Why Use a Set Instead of a List in Python? (In Theory)\n",
        "In theory, a set is a mathematical collection of unordered, unique elements. Python's set data type is designed to model this behavior and is implemented using a hash table, which allows for efficient operations.\n",
        "\n",
        "1. Uniqueness of Elements\n",
        "A set automatically enforces uniqueness, meaning it cannot contain duplicate items.\n",
        "\n",
        "This makes it ideal when the data should represent a distinct collection, such as unique usernames or tags.\n",
        "\n",
        "2. Efficient Membership Testing\n",
        "Sets are optimized for fast membership checking using hashing.\n",
        "\n",
        "Checking if an item exists in a set is on average O(1) time complexity, whereas for lists it is O(n) because lists must be searched sequentially.\n",
        "\n",
        "3. Set Operations\n",
        "Sets support built-in operations like union, intersection, difference, and subset testing, reflecting operations from set theory.\n",
        "\n",
        "These operations are much more efficient and expressive than implementing the same logic manually with lists.\n",
        "\n",
        "4. Hash Table Implementation\n",
        "Internally, sets are implemented using hash tables, similar to dictionaries (but without key-value pairs).\n",
        "\n",
        "This allows for fast insertion, deletion, and lookup operations.\n",
        "\n",
        "Question 6 - What is a string in Python, and how is it different from a list?\n",
        "\n",
        "Answer - What is a String?\n",
        "\n",
        "A string in Python is a sequence of Unicode characters used to represent textual data.\n",
        "\n",
        "It is an immutable data type, meaning once created, its content cannot be changed.\n",
        "\n",
        "Strings are enclosed in quotes (single ' ', double \" \", or triple ''' ''').\n",
        "\n",
        "What is a List?\n",
        "\n",
        "A list in Python is a mutable, ordered collection of elements that can be of any data type (e.g., integers, strings, other lists).\n",
        "\n",
        "Question 7 - How do tuples ensure data integrity in Python?\n",
        "\n",
        "Answer - Tuples help ensure data integrity in Python through their fundamental property of immutability. Once a tuple is created, its contents cannot be changed, which provides stability and protection for the data it holds.\n",
        "\n",
        "Question 8 - What is a hash table, and how does it relate to dictionaries in Python?\n",
        "\n",
        "Answer - What is a Hash Table?\n",
        "\n",
        " a hash table is a data structure that stores key-value pairs and allows for efficient data retrieval. It uses a hash function to compute an index (also called a hash code) into an array, from which the desired value can be found.\n",
        "\n",
        "How a Hash Table Works:\n",
        "\n",
        "Hash Function:\n",
        "\n",
        "Converts a key into a numeric index (hash code).\n",
        "\n",
        "Ideally, it distributes keys uniformly to avoid clustering.\n",
        "\n",
        "Indexing:\n",
        "\n",
        "The hash code is used as an index to locate the value in an internal array (called a bucket array).\n",
        "\n",
        "Collision Handling:\n",
        "\n",
        "Two keys might produce the same index (a collision).\n",
        "\n",
        "Techniques like chaining or open addressing handle collisions.\n",
        "\n",
        "Efficiency:\n",
        "\n",
        "Hash tables offer average-case O(1) time for insertion, deletion, and lookup operations.\n",
        "\n",
        "Question 9 - Can lists contain different data types in Python?\n",
        "\n",
        "Answer - In Python, lists are heterogeneous, meaning they can store elements of different data types in a single list. This includes:\n",
        "\n",
        "1)Integers\n",
        "\n",
        "2)Floats\n",
        "\n",
        "3)Strings\n",
        "\n",
        "4)Booleans\n",
        "\n",
        "5)Other lists\n",
        "\n",
        "6)Even custom objects\n",
        "\n",
        "Question 10 - Explain why strings are immutable in Python?\n",
        "\n",
        "Answer -  strings are immutable in Python to ensure efficiency, security, and reliability. This means that once a string is created, its contents cannot be changed.\n",
        "\n",
        "Question 11 - What advantages do dictionaries offer over lists for certain tasks?\n",
        "\n",
        "Answer - Dictionaries provide several advantages over lists when working with data that requires associative mapping, fast access, and semantic clarity. These benefits stem from the underlying hash table structure of dictionaries.\n",
        "\n",
        "Question 12 - Describe a scenario where using a tuple would be preferable over a list.\n",
        "\n",
        "Answer - A tuple is preferred over a list when you need to store a fixed, ordered collection of items that should not change throughout the program. Tuples provide immutability, which ensures data integrity and reliability.\n",
        "\n",
        "Scenario: Returning Multiple Values from a Function\n",
        "Suppose you have a function that calculates and returns multiple related results, such as the minimum and maximum values from a dataset.\n",
        "\n",
        "Why Use a Tuple?\n",
        "The number and order of returned values are fixed.\n",
        "\n",
        "These values are logically grouped but should not be modified.\n",
        "\n",
        "Tuples are immutable, which helps prevent accidental changes to the result.\n",
        "\n",
        "Question 13 -  How do sets handle duplicate values in Python?\n",
        "\n",
        "Answer -  sets in Python automatically eliminate duplicate values by design. A set is defined as an unordered collection of unique elements, modeled after the mathematical concept of a set.\n",
        "\n",
        "1) Uniqueness Property\n",
        "2) Hash-Based Implementation\n",
        "3) Element Comparisons\n",
        "\n",
        "Question 14 - How does the “in” keyword work differently for lists and dictionaries?\n",
        "\n",
        "Answer - The in keyword is used in Python to perform membership testing, but it behaves differently for lists and dictionaries due to the underlying data structures and the types of elements they store.\n",
        "\n",
        "1. For Lists\n",
        "Structure: Lists are ordered sequences of elements stored in memory.\n",
        "\n",
        "How in Works: Python checks each element sequentially from the beginning to the end of the list.\n",
        "\n",
        "Time Complexity: O(n) in the worst case (linear search).\n",
        "\n",
        "Use Case: Checks whether a specific value exists as an element in the list.\n",
        "\n",
        "2. For Dictionaries\n",
        "Structure: Dictionaries are unordered collections of key-value pairs, implemented using a hash table.\n",
        "\n",
        "How in Works: The in keyword checks for existence of a key, not a value.\n",
        "\n",
        "Time Complexity: O(1) on average (constant time lookup using hashing).\n",
        "\n",
        "Use Case: Tests whether a key exists in the dictionary.\n",
        "\n",
        "Question 15 - Can you modify the elements of a tuple? Explain why or why not.\n",
        "\n",
        "Answer -  No, you cannot modify the elements of a tuple.\n",
        "\n",
        "Explanation\n",
        "A tuple in Python is an immutable data structure, which means that once it is created, its contents cannot be changed. This includes operations such as:\n",
        "\n",
        "Reassigning elements\n",
        "Adding or removing elements\n",
        "Changing element order\n",
        "\n",
        "Why Are Tuples Immutable?\n",
        "\n",
        "Data Integrity and Safety\n",
        "\n",
        "Immutability ensures that the data inside a tuple remains constant and predictable, reducing errors in programs that rely on stable values.\n",
        "\n",
        "Hashability\n",
        "\n",
        "Tuples can be hashed (if all elements are hashable), making them usable as dictionary keys or set elements.\n",
        "\n",
        "Hash values must not change, so the tuple must remain unchanged.\n",
        "\n",
        "Memory Optimization\n",
        "\n",
        "Tuples are more memory-efficient than lists because they don’t need to support operations like insertions or deletions.\n",
        "\n",
        "\n",
        "Question 16 - What is a nested dictionary, and give an example of its use case?\n",
        "\n",
        "Answer - A nested dictionary is a dictionary inside another dictionary. It allows for multi-level or hierarchical data representation, where each key can map to another dictionary instead of a single value.\n",
        "\n",
        "Question 17 -  Describe the time complexity of accessing elements in a dictionary?\n",
        "\n",
        "Answer - Time Complexity of Accessing Elements in a Dictionary\n",
        "In theory, the time complexity of accessing elements in a Python dictionary is:\n",
        "\n",
        "Average case: O(1) (constant time)\n",
        "Worst case:  O(n) (linear time)\n",
        "\n",
        "Why O(1) on Average?\n",
        "Python dictionaries are implemented using a hash table. Here's how access works:\n",
        "\n",
        "When you access dict[key], the key is passed through a hash function, which computes a hash code.\n",
        "\n",
        "This hash code is used to directly index into the internal array (bucket array) where the value is stored.\n",
        "\n",
        "Since this process doesn't depend on the number of elements, it is constant time, i.e., O(1).\n",
        "\n",
        "Why O(n) in the Worst Case?\n",
        "Although rare, the worst case can occur due to:\n",
        "\n",
        "Hash collisions: Multiple keys may hash to the same index.\n",
        "\n",
        "Poor hash functions or intentionally crafted attacks (e.g., denial-of-service).\n",
        "\n",
        "If many collisions happen, the dictionary may degrade to searching through a chain of values, resulting in O(n) time.\n",
        "\n",
        "Question 18 -  In what situations are lists preferred over dictionaries?\n",
        "\n",
        "Answer - Lists are preferred over dictionaries in situations where ordered, sequential, or indexed data is required. While dictionaries offer fast, key-based access, lists are better suited for linear data processing, preserving order, and managing collections without named keys.\n",
        "\n",
        "Question 19 - Why are dictionaries considered unordered, and how does that affect data retrieval?\n",
        "\n",
        "Answer - 1. Historical Context:\n",
        "Dictionaries in Python were originally designed as unordered collections, meaning that the insertion order of key-value pairs was not preserved. The primary focus was on fast access to values using keys, rather than on the sequence in which items were added.\n",
        "\n",
        "2. Theoretical Basis for Unordered Nature:\n",
        "Hash Table Implementation:\n",
        "\n",
        "Dictionaries are implemented using hash tables, where keys are stored based on their hash values, not their position in a sequence.\n",
        "\n",
        "The indexing logic is driven by hash computations, not by order of insertion.\n",
        "\n",
        "This makes retrieval based on key identity, not position.\n",
        "\n",
        "3. Effect on Data Retrieval:\n",
        "Access by Key (Not by Order):\n",
        "You can retrieve values using their unique keys, not by their position in the dictionary.\n",
        "\n",
        "Retrieval time is constant (O(1)), but you can't rely on a specific order in earlier Python versions.\n",
        "\n",
        "Question 20 - Explain the difference between a list and a dictionary in terms of data retrieval.\n",
        "\n",
        "Answer -\n",
        "1. List: Position-Based Retrieval\n",
        "A list is an ordered sequence of elements.\n",
        "\n",
        "Data is retrieved using integer indices that represent positions in the list.\n",
        "\n",
        "Access time is O(1) for direct indexing but O(n) for searches by value.\n",
        "\n",
        "2. Dictionary: Key-Based Retrieval\n",
        "A dictionary is an unordered (or insertion-ordered) collection of key-value pairs.\n",
        "\n",
        "Data is retrieved using unique keys, not position.\n",
        "\n",
        "Access time is O(1) on average, due to hash table implementation.\n",
        "\n",
        "\n",
        "\n",
        "\n",
        "\n",
        "\n",
        "\n",
        "\n",
        "\n",
        "\n",
        "\n",
        "\n"
      ],
      "metadata": {
        "id": "nhAERNVvULGu"
      }
    },
    {
      "cell_type": "code",
      "source": [
        "#1 Write a code to create a string with your name and print it.\n",
        "\n",
        "name = \"Priya Gupta\"\n",
        "\n",
        "print(\"My name is:\", name)\n"
      ],
      "metadata": {
        "colab": {
          "base_uri": "https://localhost:8080/"
        },
        "id": "gNprISueQD3f",
        "outputId": "e16847db-2e97-48d1-9041-a41fcbb42530"
      },
      "execution_count": 1,
      "outputs": [
        {
          "output_type": "stream",
          "name": "stdout",
          "text": [
            "My name is: Priya Gupta\n"
          ]
        }
      ]
    },
    {
      "cell_type": "code",
      "source": [
        "#2 Write a code to find the length of the string \"Hello World\".\n",
        "\n",
        "\n",
        "text = \"Hello World\"\n",
        "\n",
        "\n",
        "length = len(text)\n",
        "\n",
        "\n",
        "print(\"Length of the string is:\", length)\n"
      ],
      "metadata": {
        "colab": {
          "base_uri": "https://localhost:8080/"
        },
        "id": "D4Mv_Vd2Qob-",
        "outputId": "7018a3b3-dea5-40c6-a154-274fbf29d296"
      },
      "execution_count": 2,
      "outputs": [
        {
          "output_type": "stream",
          "name": "stdout",
          "text": [
            "Length of the string is: 11\n"
          ]
        }
      ]
    },
    {
      "cell_type": "code",
      "source": [
        "#3 Write a code to slice the first 3 characters from the string \"Python Programming\".\n",
        "\n",
        "\n",
        "text = \"Python Programming\"\n",
        "\n",
        "sliced_text = text[:3]\n",
        "\n",
        "print(\"First 3 characters are:\", sliced_text)\n",
        "\n"
      ],
      "metadata": {
        "colab": {
          "base_uri": "https://localhost:8080/"
        },
        "id": "dC31bjACQ69e",
        "outputId": "2a9f1a9d-b081-4355-98c7-4862ebd6fffd"
      },
      "execution_count": 3,
      "outputs": [
        {
          "output_type": "stream",
          "name": "stdout",
          "text": [
            "First 3 characters are: Pyt\n"
          ]
        }
      ]
    },
    {
      "cell_type": "code",
      "source": [
        "#4 Write a code to convert the string \"hello\" to uppercase.\n",
        "\n",
        "text = \"hello\"\n",
        "\n",
        "uppercase_text = text.upper()\n",
        "\n",
        "print(\"Uppercase string:\", uppercase_text)\n"
      ],
      "metadata": {
        "colab": {
          "base_uri": "https://localhost:8080/"
        },
        "id": "UKI7neVoRPGH",
        "outputId": "60e92f95-6ff4-42e4-86ca-9d556e10b777"
      },
      "execution_count": 4,
      "outputs": [
        {
          "output_type": "stream",
          "name": "stdout",
          "text": [
            "Uppercase string: HELLO\n"
          ]
        }
      ]
    },
    {
      "cell_type": "code",
      "source": [
        "#5 Write a code to replace the word \"apple\" with \"orange\" in the string \"I like apple\".\n",
        "\n",
        "\n",
        "text = \"I like apple\"\n",
        "\n",
        "new_text = text.replace(\"apple\", \"orange\")\n",
        "\n",
        "print(\"Updated string:\", new_text)\n"
      ],
      "metadata": {
        "colab": {
          "base_uri": "https://localhost:8080/"
        },
        "id": "oKg9A3E-ReGn",
        "outputId": "44db3346-f35c-4a0b-a267-81bc55edfe70"
      },
      "execution_count": 5,
      "outputs": [
        {
          "output_type": "stream",
          "name": "stdout",
          "text": [
            "Updated string: I like orange\n"
          ]
        }
      ]
    },
    {
      "cell_type": "code",
      "source": [
        "#6 Write a code to create a list with numbers 1 to 5 and print it.\n",
        "\n",
        "numbers = [1, 2, 3, 4, 5]\n",
        "\n",
        "print(\"List of numbers:\", numbers)\n"
      ],
      "metadata": {
        "colab": {
          "base_uri": "https://localhost:8080/"
        },
        "id": "zGbaM1kZRtgd",
        "outputId": "b8e4168f-c088-4c2c-919b-c1f93d8d4139"
      },
      "execution_count": 6,
      "outputs": [
        {
          "output_type": "stream",
          "name": "stdout",
          "text": [
            "List of numbers: [1, 2, 3, 4, 5]\n"
          ]
        }
      ]
    },
    {
      "cell_type": "code",
      "source": [
        "#7 Write a code to append the number 10 to the list [1, 2, 3, 4].\n",
        "\n",
        "numbers = [1, 2, 3, 4]\n",
        "\n",
        "numbers.append(10)\n",
        "\n",
        "print(\"Updated list:\", numbers)\n"
      ],
      "metadata": {
        "colab": {
          "base_uri": "https://localhost:8080/"
        },
        "id": "sTk2alDJR4E-",
        "outputId": "d9f5720b-ed09-4068-8997-3ffa6e8b4ca5"
      },
      "execution_count": 7,
      "outputs": [
        {
          "output_type": "stream",
          "name": "stdout",
          "text": [
            "Updated list: [1, 2, 3, 4, 10]\n"
          ]
        }
      ]
    },
    {
      "cell_type": "code",
      "source": [
        "#8 Write a code to remove the number 3 from the list [1, 2, 3, 4, 5].\n",
        "\n",
        "numbers = [1, 2, 3, 4, 5]\n",
        "\n",
        "numbers.remove(3)\n",
        "\n",
        "print(\"Updated list:\", numbers)\n"
      ],
      "metadata": {
        "colab": {
          "base_uri": "https://localhost:8080/"
        },
        "id": "3jyAEhf5SGO2",
        "outputId": "cac9b210-8944-4ca5-a8b0-b369d2e66051"
      },
      "execution_count": 8,
      "outputs": [
        {
          "output_type": "stream",
          "name": "stdout",
          "text": [
            "Updated list: [1, 2, 4, 5]\n"
          ]
        }
      ]
    },
    {
      "cell_type": "code",
      "source": [
        "#9 Write a code to access the second element in the list ['a', 'b', 'c', 'd'].\n",
        "\n",
        "letters = ['a', 'b', 'c', 'd']\n",
        "\n",
        "second_element = letters[1]\n",
        "\n",
        "print(\"Second element:\", second_element)\n"
      ],
      "metadata": {
        "colab": {
          "base_uri": "https://localhost:8080/"
        },
        "id": "RCz4onOfSbFV",
        "outputId": "54457185-865f-4c9c-d795-49de197a780f"
      },
      "execution_count": 9,
      "outputs": [
        {
          "output_type": "stream",
          "name": "stdout",
          "text": [
            "Second element: b\n"
          ]
        }
      ]
    },
    {
      "cell_type": "code",
      "source": [
        "#10 Write a code to reverse the list [10, 20, 30, 40, 50].\n",
        "\n",
        "numbers = [10, 20, 30, 40, 50]\n",
        "\n",
        "numbers.reverse()\n",
        "\n",
        "print(\"Reversed list:\", numbers)\n"
      ],
      "metadata": {
        "colab": {
          "base_uri": "https://localhost:8080/"
        },
        "id": "0oZ7vDWPSokt",
        "outputId": "f849471f-f917-43d6-816e-04189d87fb69"
      },
      "execution_count": 10,
      "outputs": [
        {
          "output_type": "stream",
          "name": "stdout",
          "text": [
            "Reversed list: [50, 40, 30, 20, 10]\n"
          ]
        }
      ]
    },
    {
      "cell_type": "code",
      "source": [
        "#11 Write a code to create a tuple with the elements 100, 200, 300 and print it.\n",
        "\n",
        "my_tuple = (100, 200, 300)\n",
        "\n",
        "print(\"Tuple:\", my_tuple)\n",
        "\n"
      ],
      "metadata": {
        "colab": {
          "base_uri": "https://localhost:8080/"
        },
        "id": "iA2-xisHS2Me",
        "outputId": "d2b74436-784e-49c5-a0ce-1980690360e1"
      },
      "execution_count": 11,
      "outputs": [
        {
          "output_type": "stream",
          "name": "stdout",
          "text": [
            "Tuple: (100, 200, 300)\n"
          ]
        }
      ]
    },
    {
      "cell_type": "code",
      "source": [
        "#12 Write a code to access the second-to-last element of the tuple ('red', 'green', 'blue', 'yellow').\n",
        "\n",
        "colors = ('red', 'green', 'blue', 'yellow')\n",
        "\n",
        "second_last = colors[-2]\n",
        "\n",
        "print(\"Second-to-last element:\", second_last)\n"
      ],
      "metadata": {
        "colab": {
          "base_uri": "https://localhost:8080/"
        },
        "id": "tT-SsY5dTCff",
        "outputId": "c77775ac-9e1a-405a-a0b6-d9406e3e5e0e"
      },
      "execution_count": 12,
      "outputs": [
        {
          "output_type": "stream",
          "name": "stdout",
          "text": [
            "Second-to-last element: blue\n"
          ]
        }
      ]
    },
    {
      "cell_type": "code",
      "source": [
        "#13  Write a code to find the minimum number in the tuple (10, 20, 5, 15).\n",
        "\n",
        "numbers = (10, 20, 5, 15)\n",
        "\n",
        "minimum = min(numbers)\n",
        "\n",
        "print(\"Minimum number in the tuple:\", minimum)\n"
      ],
      "metadata": {
        "colab": {
          "base_uri": "https://localhost:8080/"
        },
        "id": "E-ZGfJfsTObW",
        "outputId": "de8bef11-3c57-4588-c7d7-1567c13481e1"
      },
      "execution_count": 13,
      "outputs": [
        {
          "output_type": "stream",
          "name": "stdout",
          "text": [
            "Minimum number in the tuple: 5\n"
          ]
        }
      ]
    },
    {
      "cell_type": "code",
      "source": [
        "#14  Write a code to find the index of the element \"cat\" in the tuple ('dog', 'cat', 'rabbit').\n",
        "\n",
        "animals = ('dog', 'cat', 'rabbit')\n",
        "\n",
        "index_of_cat = animals.index('cat')\n",
        "\n",
        "print(\"Index of 'cat':\", index_of_cat)\n"
      ],
      "metadata": {
        "colab": {
          "base_uri": "https://localhost:8080/"
        },
        "id": "7HIS7S0DTX3-",
        "outputId": "baa4ea15-c9f7-4de5-fab7-67c3cfacdf29"
      },
      "execution_count": 14,
      "outputs": [
        {
          "output_type": "stream",
          "name": "stdout",
          "text": [
            "Index of 'cat': 1\n"
          ]
        }
      ]
    },
    {
      "cell_type": "code",
      "source": [
        "#15 Write a code to create a tuple containing three different fruits and check if \"kiwi\" is in it.\n",
        "\n",
        "fruits = ('apple', 'banana', 'mango')\n",
        "\n",
        "if 'kiwi' in fruits:\n",
        "    print(\"Kiwi is in the tuple.\")\n",
        "else:\n",
        "    print(\"Kiwi is not in the tuple.\")\n"
      ],
      "metadata": {
        "colab": {
          "base_uri": "https://localhost:8080/"
        },
        "id": "5u2GflriTjbN",
        "outputId": "24219e04-b1c6-429a-c03b-6b827a003f15"
      },
      "execution_count": 15,
      "outputs": [
        {
          "output_type": "stream",
          "name": "stdout",
          "text": [
            "Kiwi is not in the tuple.\n"
          ]
        }
      ]
    },
    {
      "cell_type": "code",
      "source": [
        "#16  Write a code to create a set with the elements 'a', 'b', 'c' and print it.\n",
        "\n",
        "my_set = {'a', 'b', 'c'}\n",
        "\n",
        "print(\"Set:\", my_set)\n"
      ],
      "metadata": {
        "colab": {
          "base_uri": "https://localhost:8080/"
        },
        "id": "N5kBm0QWTvbV",
        "outputId": "9cfdaa5f-7ae0-4315-e056-a7ad6deee84b"
      },
      "execution_count": 16,
      "outputs": [
        {
          "output_type": "stream",
          "name": "stdout",
          "text": [
            "Set: {'a', 'b', 'c'}\n"
          ]
        }
      ]
    },
    {
      "cell_type": "code",
      "source": [
        "#17  Write a code to clear all elements from the set {1, 2, 3, 4, 5}.\n",
        "\n",
        "numbers = {1, 2, 3, 4, 5}\n",
        "\n",
        "numbers.clear()\n",
        "\n",
        "print(\"Set after clearing:\", numbers)\n"
      ],
      "metadata": {
        "colab": {
          "base_uri": "https://localhost:8080/"
        },
        "id": "nEWaSiacT8xe",
        "outputId": "325304e5-b359-4f61-c633-ede1e0837876"
      },
      "execution_count": 17,
      "outputs": [
        {
          "output_type": "stream",
          "name": "stdout",
          "text": [
            "Set after clearing: set()\n"
          ]
        }
      ]
    },
    {
      "cell_type": "code",
      "source": [
        "#18 Write a code to remove the element 4 from the set {1, 2, 3, 4}.\n",
        "\n",
        "numbers = {1, 2, 3, 4}\n",
        "\n",
        "numbers.remove(4)\n",
        "\n",
        "print(\"Set after removing 4:\", numbers)\n"
      ],
      "metadata": {
        "colab": {
          "base_uri": "https://localhost:8080/"
        },
        "id": "fQgUesqaUHsH",
        "outputId": "f822d496-35dc-41b8-d14e-c1112c926526"
      },
      "execution_count": 18,
      "outputs": [
        {
          "output_type": "stream",
          "name": "stdout",
          "text": [
            "Set after removing 4: {1, 2, 3}\n"
          ]
        }
      ]
    },
    {
      "cell_type": "code",
      "source": [
        "#19  Write a code to find the union of two sets {1, 2, 3} and {3, 4, 5}.\n",
        "\n",
        "set1 = {1, 2, 3}\n",
        "set2 = {3, 4, 5}\n",
        "\n",
        "union_set = set1.union(set2)\n",
        "\n",
        "print(\"Union of sets:\", union_set)\n"
      ],
      "metadata": {
        "colab": {
          "base_uri": "https://localhost:8080/"
        },
        "id": "BJHrK6lkUWLG",
        "outputId": "8173d667-c14b-4d33-e036-ca0a3d06748b"
      },
      "execution_count": 19,
      "outputs": [
        {
          "output_type": "stream",
          "name": "stdout",
          "text": [
            "Union of sets: {1, 2, 3, 4, 5}\n"
          ]
        }
      ]
    },
    {
      "cell_type": "code",
      "source": [
        "#20  Write a code to find the intersection of two sets {1, 2, 3} and {2, 3, 4}.\n",
        "\n",
        "set1 = {1, 2, 3}\n",
        "set2 = {2, 3, 4}\n",
        "\n",
        "intersection_set = set1.intersection(set2)\n",
        "\n",
        "print(\"Intersection of sets:\", intersection_set)\n"
      ],
      "metadata": {
        "colab": {
          "base_uri": "https://localhost:8080/"
        },
        "id": "qqLelImTUhaF",
        "outputId": "f17368b3-185e-497d-aef7-d5ebdd3bfac1"
      },
      "execution_count": 20,
      "outputs": [
        {
          "output_type": "stream",
          "name": "stdout",
          "text": [
            "Intersection of sets: {2, 3}\n"
          ]
        }
      ]
    },
    {
      "cell_type": "code",
      "source": [
        "#21 Write a code to create a dictionary with the keys \"name\", \"age\", and \"city\", and print it.\n",
        "\n",
        "person = {\n",
        "    \"name\": \"Alice\",\n",
        "    \"age\": 30,\n",
        "    \"city\": \"New York\"\n",
        "}\n",
        "\n",
        "print(\"Dictionary:\", person)\n"
      ],
      "metadata": {
        "colab": {
          "base_uri": "https://localhost:8080/"
        },
        "id": "FXGCcZ-VUxxo",
        "outputId": "f301d6b0-f08a-4e71-9dc5-582e32d4053d"
      },
      "execution_count": 21,
      "outputs": [
        {
          "output_type": "stream",
          "name": "stdout",
          "text": [
            "Dictionary: {'name': 'Alice', 'age': 30, 'city': 'New York'}\n"
          ]
        }
      ]
    },
    {
      "cell_type": "code",
      "source": [
        "#22 Write a code to add a new key-value pair \"country\": \"USA\" to the dictionary {'name': 'John', 'age': 25}.\n",
        "\n",
        "person = {'name': 'John', 'age': 25}\n",
        "\n",
        "person['country'] = 'USA'\n",
        "\n",
        "print(\"Updated dictionary:\", person)\n"
      ],
      "metadata": {
        "colab": {
          "base_uri": "https://localhost:8080/"
        },
        "id": "choVXQ5IVAqf",
        "outputId": "e40d45b0-8c95-46d3-b302-1a75067ec000"
      },
      "execution_count": 22,
      "outputs": [
        {
          "output_type": "stream",
          "name": "stdout",
          "text": [
            "Updated dictionary: {'name': 'John', 'age': 25, 'country': 'USA'}\n"
          ]
        }
      ]
    },
    {
      "cell_type": "code",
      "source": [
        "#23 Write a code to access the value associated with the key \"name\" in the dictionary {'name': 'Alice', 'age': 30}.\n",
        "\n",
        "person = {'name': 'Alice', 'age': 30}\n",
        "\n",
        "name_value = person['name']\n",
        "\n",
        "print(\"Value associated with 'name':\", name_value)\n"
      ],
      "metadata": {
        "colab": {
          "base_uri": "https://localhost:8080/"
        },
        "id": "OoIorsZMVOgO",
        "outputId": "1b94039e-2ef2-44f7-e2b1-2fd0a4d66bc6"
      },
      "execution_count": 23,
      "outputs": [
        {
          "output_type": "stream",
          "name": "stdout",
          "text": [
            "Value associated with 'name': Alice\n"
          ]
        }
      ]
    },
    {
      "cell_type": "code",
      "source": [
        "#24  Write a code to remove the key \"age\" from the dictionary {'name': 'Bob', 'age': 22, 'city': 'New York'}.\n",
        "\n",
        "person = {'name': 'Bob', 'age': 22, 'city': 'New York'}\n",
        "\n",
        "person.pop('age')\n",
        "\n",
        "print(\"Updated dictionary:\", person)\n"
      ],
      "metadata": {
        "colab": {
          "base_uri": "https://localhost:8080/"
        },
        "id": "h91QDdElVZm3",
        "outputId": "c6979c66-34da-4ed4-ccc1-b016b5301757"
      },
      "execution_count": 24,
      "outputs": [
        {
          "output_type": "stream",
          "name": "stdout",
          "text": [
            "Updated dictionary: {'name': 'Bob', 'city': 'New York'}\n"
          ]
        }
      ]
    },
    {
      "cell_type": "code",
      "source": [
        "#25  Write a code to check if the key \"city\" exists in the dictionary {'name': 'Alice', 'city': 'Paris'}.\n",
        "\n",
        "person = {'name': 'Alice', 'city': 'Paris'}\n",
        "\n",
        "if 'city' in person:\n",
        "    print(\"The key 'city' exists in the dictionary.\")\n",
        "else:\n",
        "    print(\"The key 'city' does not exist in the dictionary.\")\n"
      ],
      "metadata": {
        "colab": {
          "base_uri": "https://localhost:8080/"
        },
        "id": "sBxF-dSOVoSG",
        "outputId": "2f433554-34eb-4a67-b77a-915c322bf0ae"
      },
      "execution_count": 25,
      "outputs": [
        {
          "output_type": "stream",
          "name": "stdout",
          "text": [
            "The key 'city' exists in the dictionary.\n"
          ]
        }
      ]
    },
    {
      "cell_type": "code",
      "source": [
        "#26 Write a code to create a list, a tuple, and a dictionary, and print them all.\n",
        "\n",
        "my_list = [10, 20, 30]\n",
        "\n",
        "my_tuple = ('apple', 'banana', 'cherry')\n",
        "\n",
        "my_dict = {'name': 'John', 'age': 25, 'city': 'London'}\n",
        "\n",
        "print(\"List:\", my_list)\n",
        "print(\"Tuple:\", my_tuple)\n",
        "print(\"Dictionary:\", my_dict)\n"
      ],
      "metadata": {
        "colab": {
          "base_uri": "https://localhost:8080/"
        },
        "id": "WQBhcB9JVzCX",
        "outputId": "412f6a4d-88bd-4c45-ae83-8b10c46e9b1f"
      },
      "execution_count": 26,
      "outputs": [
        {
          "output_type": "stream",
          "name": "stdout",
          "text": [
            "List: [10, 20, 30]\n",
            "Tuple: ('apple', 'banana', 'cherry')\n",
            "Dictionary: {'name': 'John', 'age': 25, 'city': 'London'}\n"
          ]
        }
      ]
    },
    {
      "cell_type": "code",
      "source": [
        "#27  Write a code to create a list of 5 random numbers between 1 and 100, sort it in ascending order, and print the result.(replaced)\n",
        "\n",
        "import random\n",
        "\n",
        "random_numbers = [random.randint(1, 100) for _ in range(5)]\n",
        "\n",
        "random_numbers.sort()\n",
        "\n",
        "print(\"Sorted list of random numbers:\", random_numbers)\n"
      ],
      "metadata": {
        "colab": {
          "base_uri": "https://localhost:8080/"
        },
        "id": "xuB-VKvxWBCf",
        "outputId": "266b7615-3b1c-42f0-ad1f-c9f2332f6b73"
      },
      "execution_count": 28,
      "outputs": [
        {
          "output_type": "stream",
          "name": "stdout",
          "text": [
            "Sorted list of random numbers: [29, 57, 79, 91, 100]\n"
          ]
        }
      ]
    },
    {
      "cell_type": "code",
      "source": [
        "#28  Write a code to create a list with strings and print the element at the third index.\n",
        "\n",
        "fruits = ['apple', 'banana', 'cherry', 'date', 'elderberry']\n",
        "\n",
        "print(\"Element at third index:\", fruits[3])\n"
      ],
      "metadata": {
        "colab": {
          "base_uri": "https://localhost:8080/"
        },
        "id": "vkhJxVisWgo3",
        "outputId": "3adbf23b-9c93-4c64-89b8-b6d6dd618386"
      },
      "execution_count": 29,
      "outputs": [
        {
          "output_type": "stream",
          "name": "stdout",
          "text": [
            "Element at third index: date\n"
          ]
        }
      ]
    },
    {
      "cell_type": "code",
      "source": [
        "#29 Write a code to combine two dictionaries into one and print the result.\n",
        "\n",
        "dict1 = {'name': 'Alice', 'age': 30}\n",
        "dict2 = {'city': 'Paris', 'country': 'France'}\n",
        "\n",
        "combined_dict = {**dict1, **dict2}\n",
        "\n",
        "print(\"Combined dictionary:\", combined_dict)\n"
      ],
      "metadata": {
        "colab": {
          "base_uri": "https://localhost:8080/"
        },
        "id": "WzRtUZKbWtHe",
        "outputId": "c6fad9ed-a341-4ee0-e981-602acdf44006"
      },
      "execution_count": 30,
      "outputs": [
        {
          "output_type": "stream",
          "name": "stdout",
          "text": [
            "Combined dictionary: {'name': 'Alice', 'age': 30, 'city': 'Paris', 'country': 'France'}\n"
          ]
        }
      ]
    },
    {
      "cell_type": "code",
      "source": [
        "#30 Write a code to convert a list of strings into a set.\n",
        "\n",
        "string_list = ['apple', 'banana', 'cherry', 'apple']\n",
        "\n",
        "string_set = set(string_list)\n",
        "\n",
        "print(\"Set:\", string_set)\n"
      ],
      "metadata": {
        "colab": {
          "base_uri": "https://localhost:8080/"
        },
        "id": "4KeS0udrW2f3",
        "outputId": "5a4da928-3e7e-4f52-e3d6-49784f161991"
      },
      "execution_count": 31,
      "outputs": [
        {
          "output_type": "stream",
          "name": "stdout",
          "text": [
            "Set: {'apple', 'banana', 'cherry'}\n"
          ]
        }
      ]
    }
  ]
}